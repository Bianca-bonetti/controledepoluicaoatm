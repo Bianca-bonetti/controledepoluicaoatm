{
 "cells": [
  {
   "cell_type": "markdown",
   "id": "47d050fc-2a58-47f4-9b64-4c97e9db2287",
   "metadata": {},
   "source": [
    "# Atividade 01 - Parte 01\n",
    "\n",
    "Aluna: Bianca Bonetti Nunes"
   ]
  },
  {
   "cell_type": "markdown",
   "id": "54ae4db0-cf48-4539-8be0-fd4290d7ecb3",
   "metadata": {},
   "source": [
    "## Abrir planilha de fatores de emissões compilada\n",
    "\n",
    "Utilizei o cápitulo xx da AP42, pois meu empreendimento é uma Papeleira. link\n"
   ]
  },
  {
   "cell_type": "code",
   "execution_count": 1,
   "id": "55f949d8-d2db-4e7e-859d-0ef75becc2ae",
   "metadata": {},
   "outputs": [
    {
     "name": "stdout",
     "output_type": "stream",
     "text": [
      "C:\\Users\\BiaBN\\OneDrive\\Documentos\\controledepoluicaoatm\\tabelas\\FE\n",
      "chp_11_7.csv\n"
     ]
    }
   ],
   "source": [
    "#utilizando pandas para abrir planilha\n",
    "import pandas as pd\n",
    "import os\n",
    "\n",
    "#coletando o caminho da pasta que estou\n",
    "cwd = os.getcwd()\n",
    "\n",
    "#pasta dos fatores de emissão\n",
    "path = cwd+'\\\\tabelas\\\\FE'\n",
    "print(path)\n",
    "\n",
    "#indicando nome do arquivo\n",
    "chapterNumer = 11\n",
    "supChapter = 7\n",
    "file = 'chp_'+str(chapterNumer)+'_'+str(supChapter)+'.csv'\n",
    "print(file)\n",
    "\n",
    "#abrindo arquivo com o pandas\n",
    "#fe = pd.read_csv(path+'\\\\'+file)\n",
    "#print(fe)"
   ]
  },
  {
   "cell_type": "markdown",
   "id": "86f47956-560b-4a5a-b518-82ef48488fa5",
   "metadata": {},
   "source": [
    "#plotando os fatores de emissão\n",
    "import matplotlib.pyplot as plt\n",
    "\n",
    "atv = 1000\n",
    "emis = fe['PM']*atv\n",
    "\n",
    "fig,ax = plt.subplots()\n",
    "fe[].plot(ax=ax)\n",
    "fe.plot.bar(ax=ax)"
   ]
  }
 ],
 "metadata": {
  "kernelspec": {
   "display_name": "Python 3 (ipykernel)",
   "language": "python",
   "name": "python3"
  },
  "language_info": {
   "codemirror_mode": {
    "name": "ipython",
    "version": 3
   },
   "file_extension": ".py",
   "mimetype": "text/x-python",
   "name": "python",
   "nbconvert_exporter": "python",
   "pygments_lexer": "ipython3",
   "version": "3.9.5"
  }
 },
 "nbformat": 4,
 "nbformat_minor": 5
}
