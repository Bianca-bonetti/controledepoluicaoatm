{
 "cells": [
  {
   "cell_type": "markdown",
   "id": "31de3bb7-bd19-4721-834f-2be2e03cbecd",
   "metadata": {},
   "source": [
    "# Aula 03/04/2024 - Comandos Básicos no Python\n",
    "\n",
    "Nesta aula aprenderemos a importar pacotes e os tipos de variáveis\\\n",
    "Desenvolvedora: Bianca Bonetti Nunes"
   ]
  },
  {
   "cell_type": "markdown",
   "id": "af692370-6aee-4402-95c3-30c669778d6d",
   "metadata": {},
   "source": [
    "## Tipos de Variáveis"
   ]
  },
  {
   "cell_type": "code",
   "execution_count": 9,
   "id": "6ae12386-7013-47ea-aa0d-150044ddc3e4",
   "metadata": {},
   "outputs": [
    {
     "name": "stdout",
     "output_type": "stream",
     "text": [
      "a = 1\n",
      "<class 'int'>\n"
     ]
    }
   ],
   "source": [
    "# Criando variáveis inteiras\n",
    "a = 1\n",
    "print ('a = '+str(a))\n",
    "print(type(a))\n",
    "# Para run o comando ctrl + enter\n"
   ]
  },
  {
   "cell_type": "code",
   "execution_count": 13,
   "id": "b9e3e36f-0443-450d-b9b3-3e5901e3a6b6",
   "metadata": {},
   "outputs": [
    {
     "name": "stdout",
     "output_type": "stream",
     "text": [
      "Salve o Mundo\n",
      "<class 'str'>\n"
     ]
    }
   ],
   "source": [
    "# Criando variáveis string\n",
    "b = 'Salve o '\n",
    "c = 'Mundo'\n",
    "print(b+c)\n",
    "print (type(b))"
   ]
  },
  {
   "cell_type": "code",
   "execution_count": 14,
   "id": "ceab7472-871e-40b0-a1f0-07c23e3cbc79",
   "metadata": {},
   "outputs": [
    {
     "name": "stdout",
     "output_type": "stream",
     "text": [
      "666.666\n",
      "<class 'float'>\n"
     ]
    }
   ],
   "source": [
    "# Criando variáveis float/double precision\n",
    "d = 666.666\n",
    "print (d)\n",
    "print (type(d))"
   ]
  }
 ],
 "metadata": {
  "kernelspec": {
   "display_name": "Python 3 (ipykernel)",
   "language": "python",
   "name": "python3"
  },
  "language_info": {
   "codemirror_mode": {
    "name": "ipython",
    "version": 3
   },
   "file_extension": ".py",
   "mimetype": "text/x-python",
   "name": "python",
   "nbconvert_exporter": "python",
   "pygments_lexer": "ipython3",
   "version": "3.9.5"
  }
 },
 "nbformat": 4,
 "nbformat_minor": 5
}
