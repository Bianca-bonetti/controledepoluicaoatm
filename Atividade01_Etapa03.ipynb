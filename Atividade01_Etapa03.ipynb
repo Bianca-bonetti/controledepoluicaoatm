{
 "cells": [
  {
   "cell_type": "markdown",
   "id": "9bebbad8-a176-4a3f-a9de-5da64c777603",
   "metadata": {},
   "source": [
    "# Etapa 3 \n",
    "Controle de Poluição Atmosférica\\\n",
    "Professor: Leonardo Hoinaski\\\n",
    "Aluna: Bianca Bonetti Nunes\n",
    "#### Gerar números aleatórios que representem a atividade industrial (ex: toneladas de cimento produzido). Utilize alguma indústria do estado para basear seus códigos."
   ]
  }
 ],
 "metadata": {
  "kernelspec": {
   "display_name": "Python 3 (ipykernel)",
   "language": "python",
   "name": "python3"
  },
  "language_info": {
   "codemirror_mode": {
    "name": "ipython",
    "version": 3
   },
   "file_extension": ".py",
   "mimetype": "text/x-python",
   "name": "python",
   "nbconvert_exporter": "python",
   "pygments_lexer": "ipython3",
   "version": "3.9.5"
  }
 },
 "nbformat": 4,
 "nbformat_minor": 5
}
