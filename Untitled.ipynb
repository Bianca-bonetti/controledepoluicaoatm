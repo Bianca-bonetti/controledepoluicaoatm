{
 "cells": [
  {
   "cell_type": "markdown",
   "id": "6ed35b2c-7b71-41ea-bad9-b43ee058916d",
   "metadata": {},
   "source": [
    "# Atividade 1 - Etapa 2\n",
    "\n",
    "Controle de Poluição Atmosférica\\\n",
    "Professor: Leonardo Hoinaski\\\n",
    "Aluna: Bianca Bonetti Nunes"
   ]
  },
  {
   "cell_type": "markdown",
   "id": "eacb9ce5-8b2b-4d7f-a318-e414a1a047bd",
   "metadata": {},
   "source": [
    "# 1.1 Numpy arrays"
   ]
  },
  {
   "cell_type": "code",
   "execution_count": 1,
   "id": "e39f74f6-e2db-4f55-8497-031cc8df937c",
   "metadata": {},
   "outputs": [
    {
     "name": "stdout",
     "output_type": "stream",
     "text": [
      "(1000, 2)\n",
      "2000\n",
      "[[0.18320391 0.29998093]\n",
      " [0.8816392  0.96764216]\n",
      " [0.40460092 0.19134273]\n",
      " [0.84487677 0.51834804]\n",
      " [0.59183124 0.06443308]\n",
      " [0.71217485 0.62826065]\n",
      " [0.46526067 0.97237026]\n",
      " [0.23549983 0.43145182]\n",
      " [0.47650838 0.51009417]\n",
      " [0.1365882  0.11793935]]\n",
      "(10, 2)\n"
     ]
    }
   ],
   "source": [
    "import numpy as np\n",
    "\n",
    "# Criando um vetor de dados aleatórios\n",
    "data = np.random.rand(1000,2)\n",
    "\n",
    "# Verificando o tamanho do vetor\n",
    "print(data.shape)\n",
    "print(np.size(data))\n",
    "\n",
    "# Print de uma amostra dos dados\n",
    "print(data[0:10]) #mostra linhas de 0 a 10\n",
    "print(data[0:10].shape)"
   ]
  },
  {
   "cell_type": "code",
   "execution_count": 2,
   "id": "03826b41-f88a-4468-8778-10318312ec2d",
   "metadata": {},
   "outputs": [
    {
     "name": "stdout",
     "output_type": "stream",
     "text": [
      "[[191.37187001 306.98112184]\n",
      " [882.82281155 967.96573494]\n",
      " [410.55490704 199.42929959]\n",
      " [846.42800568 523.16455996]\n",
      " [595.91292552  73.7887495 ]\n",
      " [715.05310347 631.9780456 ]\n",
      " [470.6080665  972.64655519]\n",
      " [243.14483195 437.13730212]\n",
      " [481.74329241 514.99322913]\n",
      " [145.22232287 126.75995531]]\n"
     ]
    }
   ],
   "source": [
    "# Usando Monte-Carlo\n",
    "dataMax = 1000\n",
    "dataMin = 10\n",
    "data = (dataMax - dataMin)*data + dataMin #multiplica osvalores da matriz por 1000-10 e soma 10\n",
    "print(data[0:10])"
   ]
  },
  {
   "cell_type": "code",
   "execution_count": 4,
   "id": "672b2cbf-f675-4862-935b-d683a6ff5d99",
   "metadata": {},
   "outputs": [
    {
     "ename": "ModuleNotFoundError",
     "evalue": "No module named 'matplotlib'",
     "output_type": "error",
     "traceback": [
      "\u001b[1;31m---------------------------------------------------------------------------\u001b[0m",
      "\u001b[1;31mModuleNotFoundError\u001b[0m                       Traceback (most recent call last)",
      "Cell \u001b[1;32mIn[4], line 1\u001b[0m\n\u001b[1;32m----> 1\u001b[0m \u001b[38;5;28;01mimport\u001b[39;00m \u001b[38;5;21;01mmatplotlib\u001b[39;00m\u001b[38;5;21;01m.\u001b[39;00m\u001b[38;5;21;01mpyplot\u001b[39;00m \u001b[38;5;28;01mas\u001b[39;00m \u001b[38;5;21;01mplt\u001b[39;00m \u001b[38;5;66;03m#comando que vai plotar dados em um gráfico\u001b[39;00m\n",
      "\u001b[1;31mModuleNotFoundError\u001b[0m: No module named 'matplotlib'"
     ]
    }
   ],
   "source": [
    "import matplotlib.pyplot as plt #comando que vai plotar dados em um gráfico\n",
    "\n"
   ]
  },
  {
   "cell_type": "code",
   "execution_count": null,
   "id": "c87a5dee-bf2f-4a9a-9a99-e01b5ff1b416",
   "metadata": {},
   "outputs": [],
   "source": []
  }
 ],
 "metadata": {
  "kernelspec": {
   "display_name": "Python 3 (ipykernel)",
   "language": "python",
   "name": "python3"
  },
  "language_info": {
   "codemirror_mode": {
    "name": "ipython",
    "version": 3
   },
   "file_extension": ".py",
   "mimetype": "text/x-python",
   "name": "python",
   "nbconvert_exporter": "python",
   "pygments_lexer": "ipython3",
   "version": "3.9.5"
  }
 },
 "nbformat": 4,
 "nbformat_minor": 5
}
