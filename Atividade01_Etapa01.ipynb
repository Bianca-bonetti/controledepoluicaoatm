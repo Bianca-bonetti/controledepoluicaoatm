{
 "cells": [
  {
   "cell_type": "markdown",
   "id": "4907fc5c-7b8e-4086-bc74-cd316a4daf21",
   "metadata": {},
   "source": [
    "# Atividade 1 - Etapa 1\n",
    "\n",
    "Controle de Poluição Atmosférica\\\n",
    "Professor: Leonardo Hoinaski\\\n",
    "Aluna: Bianca Bonetti Nunes\n"
   ]
  },
  {
   "cell_type": "markdown",
   "id": "004dc422-1b82-4862-ac8a-403e329c1282",
   "metadata": {},
   "source": [
    "# Dados Numéricos"
   ]
  },
  {
   "cell_type": "code",
   "execution_count": 2,
   "id": "0c2ad334-f77a-4c1a-9068-25e3e4c4eea0",
   "metadata": {},
   "outputs": [
    {
     "name": "stdout",
     "output_type": "stream",
     "text": [
      "Valor de a = 1\n"
     ]
    },
    {
     "data": {
      "text/plain": [
       "int"
      ]
     },
     "execution_count": 2,
     "metadata": {},
     "output_type": "execute_result"
    }
   ],
   "source": [
    "# Variável inteira\n",
    "a = 1 #aqui estamos declarando que a variável \"a\" recebe o valor 1\n",
    "print('Valor de a = '+str(a)) # esse código vai escrever o que está em parênteses e ao somar a variavel a é preciso fazer\n",
    "# a conversão de int(número inteiro) para str (texto)\n",
    "type(a) #aqui pedimos para o computador informar o tipo de variavel, nesse caso será int (número inteiro)"
   ]
  },
  {
   "cell_type": "code",
   "execution_count": 3,
   "id": "65708aa1-ed15-4319-aac4-8149fa4bd230",
   "metadata": {},
   "outputs": [
    {
     "name": "stdout",
     "output_type": "stream",
     "text": [
      "1.0\n"
     ]
    },
    {
     "data": {
      "text/plain": [
       "float"
      ]
     },
     "execution_count": 3,
     "metadata": {},
     "output_type": "execute_result"
    }
   ],
   "source": [
    "# Variável dupla precisão\n",
    "b = 1.0 # declarando a variável b como 1.0 \n",
    "print(b) # pedimos para que o seja escrito o valor de b\n",
    "type(b) # informa o tipo da variável, nesse caso é float (número decimal)"
   ]
  },
  {
   "cell_type": "code",
   "execution_count": 4,
   "id": "84b7c4ba-3026-4366-a676-ab9f66e1e438",
   "metadata": {},
   "outputs": [
    {
     "name": "stdout",
     "output_type": "stream",
     "text": [
      "1\n"
     ]
    },
    {
     "data": {
      "text/plain": [
       "int"
      ]
     },
     "execution_count": 4,
     "metadata": {},
     "output_type": "execute_result"
    }
   ],
   "source": [
    "# Converter float para int\n",
    "c = int(b) # aqui estamos declarando que a variável c será igual a variável b convertida para int\n",
    "print(c) # pedimos para que o seja escrito o valor de c\n",
    "type(c) # informa o tipo da variável, como c é a converção de b para int c é uma variável tipo int"
   ]
  },
  {
   "cell_type": "code",
   "execution_count": 5,
   "id": "1ba1a2b4-25e6-4b1a-9160-3a784103f322",
   "metadata": {},
   "outputs": [
    {
     "name": "stdout",
     "output_type": "stream",
     "text": [
      "nan\n"
     ]
    },
    {
     "data": {
      "text/plain": [
       "float"
      ]
     },
     "execution_count": 5,
     "metadata": {},
     "output_type": "execute_result"
    }
   ],
   "source": [
    "# Delacrando nan\n",
    "import numpy as np # estamos importando o pacote numpy (que vai possibilitar utilizar outros tipos de códigos) \n",
    "# e informamos que o \"apelido\" de numpy será \"np\" para facilitar a escrita do código\n",
    "d = np.nan #declaramos que a variável d é um \"nan\" (Not a Number - seria um valor indefinido ou resultados inválidos para operações matemáticas)\n",
    "print(d) # pedimos para que o seja escrito o valor de d\n",
    "type(d) # informa o tipo da variável d (float)"
   ]
  },
  {
   "cell_type": "code",
   "execution_count": 6,
   "id": "9276ac5c-fcf9-4e7d-a857-b69913671bca",
   "metadata": {},
   "outputs": [
    {
     "name": "stdout",
     "output_type": "stream",
     "text": [
      "nan\n",
      "nan\n",
      "1.0\n"
     ]
    }
   ],
   "source": [
    "# Operação com NaN\n",
    "e = d*1 # declaramos que a variável e é igual a variável d multiplicado com 1\n",
    "print(e) \n",
    "e = d+1 # aqui declaramos que a partir desta linha do código \"e\" passa a ser igual a \"d\" somado a 1\n",
    "print(e)\n",
    "e = np.nansum([d,1]) # utilizamos o código \"nansum\", do pacote numpy (apelidado de np), que permite a soma de valores a variáveis NaN\n",
    "print(e)"
   ]
  },
  {
   "cell_type": "markdown",
   "id": "67a34235-6129-4650-a7b4-ef6a6589554a",
   "metadata": {},
   "source": [
    "# Dados de Texto"
   ]
  },
  {
   "cell_type": "code",
   "execution_count": 7,
   "id": "73f523cb-bc64-4b15-a097-88ff7957e03d",
   "metadata": {},
   "outputs": [
    {
     "name": "stdout",
     "output_type": "stream",
     "text": [
      "Fábio\n",
      "Gabriel\n",
      "FábioGabriel\n",
      "Fábio Gabriel\n"
     ]
    }
   ],
   "source": [
    "# Declaração de variável texto\n",
    "f = 'Fábio' # declaramos que \"f\" é igual ao texto \"Fábio\" (texto precisa sempre ser colocado entre aspas)\n",
    "g = \"Gabriel\" # declaramos que \"g\" é igual ao texto \"Gabriel\" ( observe que podemos declarar textos tanto usando aspas simples '' ou duplas \"\" )\n",
    "print(f)\n",
    "print(g)\n",
    "print(f+g) # aqui somamos os dois textos ( observa-se que não há espaço entre os nomes )\n",
    "print(f+' '+g) # aqui somamos entre as variaveis o texto ' ' que é o espaço entre os nomes"
   ]
  },
  {
   "cell_type": "markdown",
   "id": "8c777288-668e-4199-86f8-9bcf6495422c",
   "metadata": {},
   "source": [
    "# Dados tipo bool - Lógica"
   ]
  },
  {
   "cell_type": "code",
   "execution_count": 8,
   "id": "d019dcd7-8bea-4cf1-83b8-6f936753e1b3",
   "metadata": {},
   "outputs": [
    {
     "data": {
      "text/plain": [
       "True"
      ]
     },
     "execution_count": 8,
     "metadata": {},
     "output_type": "execute_result"
    }
   ],
   "source": [
    "a == 1 \n",
    "# importante perceber que o sinal = significa no python: 'variável x RECEBE O VALOR y' , \n",
    "# já ao utilizar == estamos dizendo: ' x É IGUAL A y ', logo o valor de saída desse comando será TRUE (verdadeiro),\n",
    "# isso porque anteriormente [2] declaramos que a RECEBE O VALOR 1 (a = 1) "
   ]
  },
  {
   "cell_type": "code",
   "execution_count": 9,
   "id": "ea9a5470-ac1b-44c0-8e23-20f5ce80ae4a",
   "metadata": {},
   "outputs": [
    {
     "name": "stdout",
     "output_type": "stream",
     "text": [
      "True\n"
     ]
    },
    {
     "data": {
      "text/plain": [
       "bool"
      ]
     },
     "execution_count": 9,
     "metadata": {},
     "output_type": "execute_result"
    }
   ],
   "source": [
    "h = (a==1) # declaramos que a varável h recebe o valor de (a==1) que é uma igualdade verdadeira (TRUE)\n",
    "print(h) \n",
    "type(h) # ao declarar que h é a == 1 estamos na verdade fazendo uma \"pergunta\" ( a variavel \"a\" é igual a 1?) \n",
    "#e o dado de saída será do tipo bool (TRUE ou FALSE)"
   ]
  },
  {
   "cell_type": "code",
   "execution_count": 10,
   "id": "b4968c0c-cb47-4f76-a65e-43d0037769b7",
   "metadata": {},
   "outputs": [
    {
     "name": "stdout",
     "output_type": "stream",
     "text": [
      "False\n"
     ]
    },
    {
     "data": {
      "text/plain": [
       "bool"
      ]
     },
     "execution_count": 10,
     "metadata": {},
     "output_type": "execute_result"
    }
   ],
   "source": [
    "h = (a==2) # aqui estamos perguntando se a variável a é igual a 2, logo h recebe o valor FALSE, pois já é sabido que a é 1\n",
    "print(h) \n",
    "type(h)"
   ]
  },
  {
   "cell_type": "code",
   "execution_count": 11,
   "id": "d528c1a9-04a9-4d63-988a-60bc8d2eafbe",
   "metadata": {},
   "outputs": [
    {
     "data": {
      "text/plain": [
       "bool"
      ]
     },
     "execution_count": 11,
     "metadata": {},
     "output_type": "execute_result"
    }
   ],
   "source": [
    "i = True # declaramos que a variável i recebe o valor TRUE\n",
    "type(i) # como visto antes os valores TRUE ou FALSE são do tipo bool"
   ]
  },
  {
   "cell_type": "code",
   "execution_count": 12,
   "id": "5ab32f3a-ab6b-4017-a376-cdccad9c284a",
   "metadata": {},
   "outputs": [
    {
     "data": {
      "text/plain": [
       "str"
      ]
     },
     "execution_count": 12,
     "metadata": {},
     "output_type": "execute_result"
    }
   ],
   "source": [
    "ii = 'True' # perceba que ao colocar aspas indicamos um texto e não um valor verdadeiro ou falso\n",
    "type(ii) # como declaramos um texto o tipo de variável será string (str)"
   ]
  },
  {
   "cell_type": "markdown",
   "id": "7edd35b3-05d3-4a06-b80f-3e44c6c6a6e4",
   "metadata": {},
   "source": [
    "# Operação de comparação"
   ]
  },
  {
   "cell_type": "code",
   "execution_count": 13,
   "id": "1ac83a57-b847-412c-b4ba-ba980afd62cf",
   "metadata": {},
   "outputs": [
    {
     "data": {
      "text/plain": [
       "True"
      ]
     },
     "execution_count": 13,
     "metadata": {},
     "output_type": "execute_result"
    }
   ],
   "source": [
    "# Operação ==\n",
    "a==b # perguntamos se o valor de a é igual ao de b e o python nos dá a resposta\n",
    "# (Verdadeiro, pois anteriormente foi declarado que a = 1 e b = 1.0)"
   ]
  },
  {
   "cell_type": "code",
   "execution_count": 14,
   "id": "6235475a-f93a-4c31-90f1-7babb399abe3",
   "metadata": {},
   "outputs": [
    {
     "data": {
      "text/plain": [
       "False"
      ]
     },
     "execution_count": 14,
     "metadata": {},
     "output_type": "execute_result"
    }
   ],
   "source": [
    "# Operação ><\n",
    "a>b # pergunta: a é maior que b? - FALSO"
   ]
  },
  {
   "cell_type": "code",
   "execution_count": 15,
   "id": "83e23cdc-8724-40f5-93b5-291dc006b04f",
   "metadata": {},
   "outputs": [
    {
     "data": {
      "text/plain": [
       "False"
      ]
     },
     "execution_count": 15,
     "metadata": {},
     "output_type": "execute_result"
    }
   ],
   "source": [
    "# Operação !=\n",
    "a!=b # Pergunta: a é diferente de b? - FALSO, são iguais (1 = 1.0)"
   ]
  },
  {
   "cell_type": "code",
   "execution_count": 16,
   "id": "848276d1-2e0f-47d2-a835-6165af484438",
   "metadata": {},
   "outputs": [
    {
     "data": {
      "text/plain": [
       "True"
      ]
     },
     "execution_count": 16,
     "metadata": {},
     "output_type": "execute_result"
    }
   ],
   "source": [
    "# Operação >= ou <=\n",
    "a>=b # pergunta: a é maior ou igual a b? - VERDADEIRO"
   ]
  },
  {
   "cell_type": "markdown",
   "id": "679f48e3-eb38-4b1c-96d1-5d5b18ed64d6",
   "metadata": {},
   "source": [
    "# Operações matemáticas"
   ]
  },
  {
   "cell_type": "code",
   "execution_count": 17,
   "id": "32b6bf85-93d8-420b-bdac-f85898693d9d",
   "metadata": {},
   "outputs": [
    {
     "data": {
      "text/plain": [
       "2.0"
      ]
     },
     "execution_count": 17,
     "metadata": {},
     "output_type": "execute_result"
    }
   ],
   "source": [
    "# Soma \n",
    "a+b # 1 + 1.0"
   ]
  },
  {
   "cell_type": "code",
   "execution_count": 18,
   "id": "c5faece5-27ca-4d77-be4a-2a34dfcb8d8a",
   "metadata": {},
   "outputs": [
    {
     "name": "stdout",
     "output_type": "stream",
     "text": [
      "2.0\n"
     ]
    }
   ],
   "source": [
    "# Soma e atribui valor\n",
    "ab = a+b # a variável 'ab' recebe o valor de a+b, logo ab == 2.0\n",
    "print(ab)"
   ]
  },
  {
   "cell_type": "code",
   "execution_count": 20,
   "id": "db93f58b-8306-41c6-ba6a-f4c2aa99b06c",
   "metadata": {},
   "outputs": [
    {
     "name": "stdout",
     "output_type": "stream",
     "text": [
      "Não use l como nome de variável\n",
      "1.0\n",
      "1.0\n"
     ]
    }
   ],
   "source": [
    "# Multiplicação\n",
    "l = a*b \n",
    "print(\"Não use l como nome de variável\") # porque não? não entendi.\n",
    "print(l) # não dá erro, porque não usar? (PERGUNTA PARA O PROFESSOR)\n",
    "j = a*b\n",
    "print(j) "
   ]
  },
  {
   "cell_type": "code",
   "execution_count": 21,
   "id": "0d6d5db6-0778-4731-80f5-e221f0f42aec",
   "metadata": {},
   "outputs": [
    {
     "data": {
      "text/plain": [
       "1.0"
      ]
     },
     "execution_count": 21,
     "metadata": {},
     "output_type": "execute_result"
    }
   ],
   "source": [
    "# Divisão\n",
    "a/b # a divido por b (1/1.0)"
   ]
  },
  {
   "cell_type": "code",
   "execution_count": 22,
   "id": "884265a6-f251-4d96-8412-96b2b2ff2bcb",
   "metadata": {},
   "outputs": [
    {
     "data": {
      "text/plain": [
       "25"
      ]
     },
     "execution_count": 22,
     "metadata": {},
     "output_type": "execute_result"
    }
   ],
   "source": [
    "# Potencia\n",
    "5**2 # o sinal \"**\" indica potência"
   ]
  },
  {
   "cell_type": "code",
   "execution_count": 26,
   "id": "ccab5ee6-7d68-469e-b95b-ea8dfdd84f12",
   "metadata": {},
   "outputs": [
    {
     "data": {
      "text/plain": [
       "22026.465794806718"
      ]
     },
     "execution_count": 26,
     "metadata": {},
     "output_type": "execute_result"
    }
   ],
   "source": [
    "# Operações matemáticas com a biblioteca math\n",
    "import math\n",
    "\n",
    "math.exp(10) #procura o exponencial de um valor expecífico (e**x) - nesse caso o valor é 10"
   ]
  },
  {
   "cell_type": "code",
   "execution_count": 27,
   "id": "40437d6a-c5ba-431b-b5d1-10fe0964e782",
   "metadata": {},
   "outputs": [
    {
     "data": {
      "text/plain": [
       "1.0"
      ]
     },
     "execution_count": 27,
     "metadata": {},
     "output_type": "execute_result"
    }
   ],
   "source": [
    "math.exp(0) # nesse caso o valor é 0"
   ]
  },
  {
   "cell_type": "code",
   "execution_count": 28,
   "id": "99ee0992-fdad-43ec-8b69-e3eb66bbc2b9",
   "metadata": {},
   "outputs": [
    {
     "data": {
      "text/plain": [
       "2.718281828459045"
      ]
     },
     "execution_count": 28,
     "metadata": {},
     "output_type": "execute_result"
    }
   ],
   "source": [
    "math.exp(a) # nesse caso o valor é 1, pois a == 1"
   ]
  },
  {
   "cell_type": "code",
   "execution_count": 30,
   "id": "1b58f4e0-b7d5-4692-97cf-f60d6f224e9c",
   "metadata": {},
   "outputs": [
    {
     "data": {
      "text/plain": [
       "4.5399929762484854e-05"
      ]
     },
     "execution_count": 30,
     "metadata": {},
     "output_type": "execute_result"
    }
   ],
   "source": [
    "math.exp(-10) # ao final da resposta observa-se e-05, significa 10 elevado na -05"
   ]
  },
  {
   "cell_type": "code",
   "execution_count": 41,
   "id": "94811904-891f-4dc8-92c4-79596d61393e",
   "metadata": {},
   "outputs": [
    {
     "data": {
      "text/plain": [
       "0.0"
      ]
     },
     "execution_count": 41,
     "metadata": {},
     "output_type": "execute_result"
    }
   ],
   "source": [
    "import math as mt # aqui apelidamos a biblioteca math de mt\n",
    "mt.log(c) #logaritimo de c - c == int(b) == 1 (math.log(x[número, base]), não foi add base então a base é e."
   ]
  },
  {
   "cell_type": "code",
   "execution_count": 42,
   "id": "4229d65e-7fb5-4467-b393-bb61adc5b1fa",
   "metadata": {},
   "outputs": [
    {
     "data": {
      "text/plain": [
       "2.0"
      ]
     },
     "execution_count": 42,
     "metadata": {},
     "output_type": "execute_result"
    }
   ],
   "source": [
    "mt.log10(100) #logarítimo na base 10"
   ]
  },
  {
   "cell_type": "markdown",
   "id": "91554e08-0886-415b-844c-ed97678ea679",
   "metadata": {},
   "source": [
    "# Listas"
   ]
  },
  {
   "cell_type": "code",
   "execution_count": 43,
   "id": "a9e93edb-503c-44b8-802f-62497d0974f0",
   "metadata": {},
   "outputs": [
    {
     "name": "stdout",
     "output_type": "stream",
     "text": [
      "[1, 2, 3]\n"
     ]
    }
   ],
   "source": [
    "myFirstList = [1,2,3] # a variável recebe uma lista com os números 1,2,3\n",
    "print(myFirstList)"
   ]
  },
  {
   "cell_type": "code",
   "execution_count": 44,
   "id": "03b23891-cc2e-4079-bc8d-a9268ae45332",
   "metadata": {},
   "outputs": [
    {
     "name": "stdout",
     "output_type": "stream",
     "text": [
      "1\n",
      "3\n"
     ]
    }
   ],
   "source": [
    "# Acessando valores da lista pelo index\n",
    "print(myFirstList[0]) # informa o valor que está na posição 0 da lista, nesse caso 1\n",
    "print(myFirstList[2]) # informa o valor que está na posição 2 da lista, nesse caso 3"
   ]
  },
  {
   "cell_type": "code",
   "execution_count": 46,
   "id": "86c11faf-ac1a-450f-a6fb-d473b0fc58c9",
   "metadata": {},
   "outputs": [
    {
     "data": {
      "text/plain": [
       "False"
      ]
     },
     "execution_count": 46,
     "metadata": {},
     "output_type": "execute_result"
    }
   ],
   "source": [
    "myFirstList==a # pergunta: a variável myFirstList é igual a variavel a? FALSE"
   ]
  },
  {
   "cell_type": "code",
   "execution_count": 47,
   "id": "0fee7820-7b82-4532-948a-4d7f3bfc9a8d",
   "metadata": {},
   "outputs": [
    {
     "data": {
      "text/plain": [
       "True"
      ]
     },
     "execution_count": 47,
     "metadata": {},
     "output_type": "execute_result"
    }
   ],
   "source": [
    "myFirstList[0]==a # pergunta: o valor da posição 0 da lista (1) é igual ao valor de a (1)? TRUE"
   ]
  },
  {
   "cell_type": "code",
   "execution_count": 48,
   "id": "9e49caf9-578c-429f-9456-0583b60ebebb",
   "metadata": {},
   "outputs": [
    {
     "name": "stdout",
     "output_type": "stream",
     "text": [
      "[1, 1, 'c']\n"
     ]
    }
   ],
   "source": [
    "mySecList = [1,a,'c'] # nessa lista na posição 0 temos o valor 1, na posição 1 o valor da variável a e na posição 2 o texto 'c'.\n",
    "print(mySecList)"
   ]
  },
  {
   "cell_type": "code",
   "execution_count": 49,
   "id": "97cfd360-fdf6-4387-871a-97e66ca8c99c",
   "metadata": {},
   "outputs": [
    {
     "data": {
      "text/plain": [
       "list"
      ]
     },
     "execution_count": 49,
     "metadata": {},
     "output_type": "execute_result"
    }
   ],
   "source": [
    "type(mySecList) # tipo da variável - list"
   ]
  },
  {
   "cell_type": "code",
   "execution_count": 50,
   "id": "a1d9e59d-8175-4b22-9407-792d72da9293",
   "metadata": {},
   "outputs": [
    {
     "data": {
      "text/plain": [
       "str"
      ]
     },
     "execution_count": 50,
     "metadata": {},
     "output_type": "execute_result"
    }
   ],
   "source": [
    "type(mySecList[2]) # tipo do valor declarado na posição 2 da lista - string (texto)"
   ]
  },
  {
   "cell_type": "code",
   "execution_count": 51,
   "id": "cb506c22-7590-4042-a874-a6e2aa826750",
   "metadata": {},
   "outputs": [
    {
     "data": {
      "text/plain": [
       "int"
      ]
     },
     "execution_count": 51,
     "metadata": {},
     "output_type": "execute_result"
    }
   ],
   "source": [
    "type(mySecList[1]) # tipo do valor declarado na posição 1 da lista - int"
   ]
  },
  {
   "cell_type": "markdown",
   "id": "163be7a1-ce8c-49fd-9e20-3184871819f6",
   "metadata": {},
   "source": [
    "# Caminhos = path"
   ]
  },
  {
   "cell_type": "code",
   "execution_count": 52,
   "id": "85a39c27-73ea-4eab-af1f-808273caa47b",
   "metadata": {},
   "outputs": [
    {
     "name": "stdout",
     "output_type": "stream",
     "text": [
      "C:\\Users\\BiaBN\\OneDrive\\Documentos\\controledepoluicaoatm\n"
     ]
    },
    {
     "data": {
      "text/plain": [
       "str"
      ]
     },
     "execution_count": 52,
     "metadata": {},
     "output_type": "execute_result"
    }
   ],
   "source": [
    "path = r\"C:\\Users\\BiaBN\\OneDrive\\Documentos\\controledepoluicaoatm\" # declarando como texto\n",
    "print(path)\n",
    "type(path)"
   ]
  },
  {
   "cell_type": "code",
   "execution_count": 54,
   "id": "ce3d3774-053f-4141-9c37-2439550ed9f9",
   "metadata": {},
   "outputs": [
    {
     "name": "stdout",
     "output_type": "stream",
     "text": [
      "C:/Users/BiaBN/OneDrive/Documentos/controledepoluicaoatm\n"
     ]
    }
   ],
   "source": [
    "path = \"C:/Users/BiaBN/OneDrive/Documentos/controledepoluicaoatm\" #declarando path como o texto do diretório que estou com as barras ao contrário.\n",
    "print(path)"
   ]
  },
  {
   "cell_type": "code",
   "execution_count": 55,
   "id": "d8051f21-5d49-4153-9965-08da8ad82696",
   "metadata": {},
   "outputs": [
    {
     "data": {
      "text/plain": [
       "['.git',\n",
       " '.gitignore',\n",
       " '.ipynb_checkpoints',\n",
       " 'Atividade1_Etapa1.ipynb',\n",
       " 'Aula01.ipynb',\n",
       " 'inputs',\n",
       " 'README.md',\n",
       " 'Scripts',\n",
       " 'venv']"
      ]
     },
     "execution_count": 55,
     "metadata": {},
     "output_type": "execute_result"
    }
   ],
   "source": [
    "import os #importar biblioteca os\n",
    "# Listar arquivos na pasta\n",
    "os.listdir(path)"
   ]
  },
  {
   "cell_type": "code",
   "execution_count": 57,
   "id": "858dd63c-443d-406f-b717-583094f3aabf",
   "metadata": {},
   "outputs": [
    {
     "data": {
      "text/plain": [
       "'.git'"
      ]
     },
     "execution_count": 57,
     "metadata": {},
     "output_type": "execute_result"
    }
   ],
   "source": [
    "# Selecionar primeiro arquivo listado\n",
    "os.listdir(path)[0] # arquivo da posição 0"
   ]
  },
  {
   "cell_type": "code",
   "execution_count": 58,
   "id": "bd316ed7-4600-4f9a-8394-a52b181a393e",
   "metadata": {},
   "outputs": [
    {
     "data": {
      "text/plain": [
       "'C:/Users/BiaBN/OneDrive/Documentos/controledepoluicaoatm/.git'"
      ]
     },
     "execution_count": 58,
     "metadata": {},
     "output_type": "execute_result"
    }
   ],
   "source": [
    "# Concatenando caminhos\n",
    "path+\"/\"+os.listdir(path)[0] # adiciona ao caminho o primeiro arquivo da pasta"
   ]
  },
  {
   "cell_type": "code",
   "execution_count": 59,
   "id": "336bf17d-5e52-4fdd-beec-0188bf22bc46",
   "metadata": {},
   "outputs": [
    {
     "data": {
      "text/plain": [
       "['COMMIT_EDITMSG',\n",
       " 'config',\n",
       " 'description',\n",
       " 'FETCH_HEAD',\n",
       " 'HEAD',\n",
       " 'hooks',\n",
       " 'index',\n",
       " 'info',\n",
       " 'logs',\n",
       " 'objects',\n",
       " 'packed-refs',\n",
       " 'refs']"
      ]
     },
     "execution_count": 59,
     "metadata": {},
     "output_type": "execute_result"
    }
   ],
   "source": [
    "# Listando caminho concatenado\n",
    "os.listdir(path+\"/\"+os.listdir(path)[0]) #listando os arquivos que estão dentro do primeiro arquivo da pasta declarada no path"
   ]
  },
  {
   "cell_type": "code",
   "execution_count": 60,
   "id": "9fdda956-4890-480a-a6c3-7f6974c35c89",
   "metadata": {},
   "outputs": [
    {
     "data": {
      "text/plain": [
       "'C:\\\\Users\\\\BiaBN\\\\OneDrive\\\\Documentos\\\\controledepoluicaoatm'"
      ]
     },
     "execution_count": 60,
     "metadata": {},
     "output_type": "execute_result"
    }
   ],
   "source": [
    "# Diretório que estou trababalhando\n",
    "os.getcwd()"
   ]
  },
  {
   "cell_type": "code",
   "execution_count": 64,
   "id": "fec58348-6742-440a-8455-dabb982372d5",
   "metadata": {},
   "outputs": [],
   "source": [
    "# Muda de diretório para o caminho \n",
    "os.chdir('C:/Users/BiaBN/OneDrive/Documentos/controledepoluicaoatm')"
   ]
  },
  {
   "cell_type": "code",
   "execution_count": 65,
   "id": "da7c3b10-5645-40d5-8817-7f25135fa4e9",
   "metadata": {},
   "outputs": [
    {
     "data": {
      "text/plain": [
       "'C:\\\\Users\\\\BiaBN\\\\OneDrive\\\\Documentos\\\\controledepoluicaoatm'"
      ]
     },
     "execution_count": 65,
     "metadata": {},
     "output_type": "execute_result"
    }
   ],
   "source": [
    "os.getcwd() #Retorna uma string representando o diretório de trabalho atual."
   ]
  },
  {
   "cell_type": "code",
   "execution_count": 66,
   "id": "aea4d80b-cf70-45eb-b6c2-12447f063bcb",
   "metadata": {},
   "outputs": [
    {
     "name": "stdout",
     "output_type": "stream",
     "text": [
      "Criando diretório C:\\Users\\BiaBN\\OneDrive\\Documentos\\controledepoluicaoatm/test\n"
     ]
    }
   ],
   "source": [
    "# Criando diretório\n",
    "new_path = os.getcwd()+'/test'\n",
    "\n",
    "if os.path.isdir(new_path): #procura se o new_path já existe, se sim segue para o comando da linha de baixo\n",
    "    print('diretório já existe')\n",
    "else: #caso a condição do if seja falsa segue para o comando abaixo, que vai criar o diretório novo\n",
    "    print('Criando diretório '+new_path)\n",
    "    os.mkdir(new_path)"
   ]
  },
  {
   "cell_type": "code",
   "execution_count": 67,
   "id": "d347e4d1-f1c9-47d7-97f1-c327d77f909b",
   "metadata": {},
   "outputs": [
    {
     "name": "stdout",
     "output_type": "stream",
     "text": [
      "diretório já existe\n"
     ]
    }
   ],
   "source": [
    "# Criando diretório - caso em que o diretório já existe\n",
    "new_path = os.getcwd()+'/.git'\n",
    "\n",
    "if os.path.isdir(new_path): #procura se o new_path já existe, se sim segue para o comando da linha de baixo\n",
    "    print('diretório já existe')\n",
    "else: #caso a condição do if seja falsa segue para o comando abaixo, que vai criar o diretório novo\n",
    "    print('Criando diretório '+new_path)\n",
    "    os.mkdir(new_path)"
   ]
  },
  {
   "cell_type": "code",
   "execution_count": 68,
   "id": "5db689b6-d01a-4689-9768-1a14ec347b4c",
   "metadata": {},
   "outputs": [
    {
     "name": "stdout",
     "output_type": "stream",
     "text": [
      "Criando diretório C:\\Users\\BiaBN\\OneDrive\\Documentos\\controledepoluicaoatm/test2\n"
     ]
    }
   ],
   "source": [
    "# Criando diretório\n",
    "new_path = os.getcwd()+'/test2'\n",
    "\n",
    "if os.path.isdir(new_path):\n",
    "    print('diretório já existe')\n",
    "    # Criando um arquivo de texto\n",
    "    with open(new_path+\"/copy.txt\", \"w\") as file:\n",
    "        file.write(\"Your text goes here\")\n",
    "else:\n",
    "    print('Criando diretório '+new_path)\n",
    "    os.mkdir(new_path)\n",
    "    with open(new_path+\"/copy.txt\", \"w\") as file:#cria arquivo de texto com nome copy\n",
    "        file.write(\"Your text goes here\")#escreve no arquivo"
   ]
  },
  {
   "cell_type": "markdown",
   "id": "9b9d504b-5a8a-4cff-95d6-0afc30cfa3ea",
   "metadata": {},
   "source": [
    "# Numpy arrays e Pandas DataFrames"
   ]
  },
  {
   "cell_type": "code",
   "execution_count": 70,
   "id": "aa51843d-2e24-4dbb-b3a1-c4b3f87afa3f",
   "metadata": {},
   "outputs": [
    {
     "data": {
      "text/plain": [
       "numpy.ndarray"
      ]
     },
     "execution_count": 70,
     "metadata": {},
     "output_type": "execute_result"
    }
   ],
   "source": [
    "import numpy as np\n",
    "# Criando uma variável numpy\n",
    "n = np.array(0)\n",
    "type(n) # a estrutura ndarray armazena os elementos sempre com o mesmo formato"
   ]
  },
  {
   "cell_type": "code",
   "execution_count": 71,
   "id": "ae2eaae5-0dd8-4504-812d-e1f33206eae9",
   "metadata": {},
   "outputs": [
    {
     "name": "stdout",
     "output_type": "stream",
     "text": [
      "[ 1  2  3 10 20 55]\n"
     ]
    }
   ],
   "source": [
    "# Criando uma variável numpy a partir de uma lista\n",
    "myThirdList=[1,2,3,10,20,55]\n",
    "n = np.array(myThirdList)\n",
    "print(n)"
   ]
  },
  {
   "cell_type": "code",
   "execution_count": 72,
   "id": "9c8e4457-b992-4169-9d89-3cbd8afecdb6",
   "metadata": {},
   "outputs": [
    {
     "name": "stdout",
     "output_type": "stream",
     "text": [
      "[[8.14296811e-01 5.64447231e-01 7.33225293e-01 1.19416109e-01\n",
      "  7.93412335e-01 9.10781071e-01 8.24693436e-01 4.91307596e-02\n",
      "  1.07230769e-01 5.29353857e-01]\n",
      " [8.48818627e-01 8.37026000e-01 9.37744685e-01 6.05763573e-01\n",
      "  8.75955122e-01 9.05537973e-01 2.71938678e-01 5.31712556e-01\n",
      "  5.23347172e-01 4.58864164e-01]\n",
      " [7.94224750e-01 2.38018313e-01 3.62301651e-01 2.10969641e-01\n",
      "  9.11522612e-01 3.85337762e-02 8.80042323e-01 6.55803774e-01\n",
      "  9.41191224e-02 2.10247020e-01]\n",
      " [8.74763687e-01 4.37034061e-01 3.82765866e-01 9.36448130e-01\n",
      "  4.11340625e-01 9.10317751e-01 7.96088413e-01 6.32207854e-01\n",
      "  1.72507062e-01 6.24410047e-02]\n",
      " [9.42495656e-01 2.51032022e-01 3.69481172e-01 2.02581324e-01\n",
      "  2.61220580e-01 7.61171172e-01 5.55061780e-01 3.74238052e-01\n",
      "  7.68258327e-01 5.27000796e-01]\n",
      " [4.70991770e-01 8.38652594e-01 6.24714489e-01 2.57016402e-01\n",
      "  2.15458092e-02 2.56594621e-01 4.66601423e-01 1.55511798e-01\n",
      "  7.59528253e-01 3.33585016e-01]\n",
      " [3.98981020e-01 8.91526002e-01 7.38119554e-01 2.73510616e-01\n",
      "  4.50145582e-01 8.76480898e-01 6.82045260e-01 6.41137202e-01\n",
      "  9.51363309e-01 4.52869034e-01]\n",
      " [7.21836534e-01 4.43068743e-02 8.30453497e-01 7.86706846e-01\n",
      "  2.53784794e-01 2.08261064e-01 7.57931318e-01 1.12863838e-01\n",
      "  4.33689413e-01 4.86114185e-01]\n",
      " [9.95659031e-01 4.28395685e-01 6.54187222e-01 9.24696882e-01\n",
      "  7.60805824e-02 5.66096427e-01 6.39038673e-02 3.47019942e-01\n",
      "  2.73599129e-01 3.12963873e-01]\n",
      " [3.61279343e-01 7.83840522e-01 3.73994216e-05 3.05634857e-01\n",
      "  6.45425469e-01 6.34738760e-01 2.92871486e-01 6.31453225e-01\n",
      "  7.06452530e-01 8.09757372e-01]]\n",
      "(10, 10)\n"
     ]
    }
   ],
   "source": [
    "# Criando uma matriz de 10x10 de números aleatórios entre 0 e 1\n",
    "n = np.random.rand(10,10)\n",
    "print(n)\n",
    "# Dimensões da matrix\n",
    "print(n.shape)"
   ]
  },
  {
   "cell_type": "code",
   "execution_count": 73,
   "id": "801d38cc-dd06-40f5-8032-2d1de0a3140c",
   "metadata": {},
   "outputs": [
    {
     "data": {
      "text/plain": [
       "array([0.81429681, 0.56444723, 0.73322529, 0.11941611, 0.79341234,\n",
       "       0.91078107, 0.82469344, 0.04913076, 0.10723077, 0.52935386])"
      ]
     },
     "execution_count": 73,
     "metadata": {},
     "output_type": "execute_result"
    }
   ],
   "source": [
    "# Acessando valores da matriz\n",
    "n[0,:] #todos os valores da linha 0 da matrix"
   ]
  },
  {
   "cell_type": "code",
   "execution_count": 74,
   "id": "436ed398-6679-4808-95c4-c4179616ad9f",
   "metadata": {},
   "outputs": [
    {
     "data": {
      "text/plain": [
       "array([0.81429681, 0.84881863, 0.79422475, 0.87476369, 0.94249566,\n",
       "       0.47099177, 0.39898102, 0.72183653, 0.99565903, 0.36127934])"
      ]
     },
     "execution_count": 74,
     "metadata": {},
     "output_type": "execute_result"
    }
   ],
   "source": [
    "n[:,0]#todos os valores da coluna 0 da matrix"
   ]
  },
  {
   "cell_type": "code",
   "execution_count": 76,
   "id": "56c03a36-6bdf-4418-85fb-309b430ba96b",
   "metadata": {},
   "outputs": [
    {
     "data": {
      "text/plain": [
       "array([[5.64447231e-01, 7.33225293e-01, 1.19416109e-01, 7.93412335e-01],\n",
       "       [8.37026000e-01, 9.37744685e-01, 6.05763573e-01, 8.75955122e-01],\n",
       "       [2.38018313e-01, 3.62301651e-01, 2.10969641e-01, 9.11522612e-01],\n",
       "       [4.37034061e-01, 3.82765866e-01, 9.36448130e-01, 4.11340625e-01],\n",
       "       [2.51032022e-01, 3.69481172e-01, 2.02581324e-01, 2.61220580e-01],\n",
       "       [8.38652594e-01, 6.24714489e-01, 2.57016402e-01, 2.15458092e-02],\n",
       "       [8.91526002e-01, 7.38119554e-01, 2.73510616e-01, 4.50145582e-01],\n",
       "       [4.43068743e-02, 8.30453497e-01, 7.86706846e-01, 2.53784794e-01],\n",
       "       [4.28395685e-01, 6.54187222e-01, 9.24696882e-01, 7.60805824e-02],\n",
       "       [7.83840522e-01, 3.73994216e-05, 3.05634857e-01, 6.45425469e-01]])"
      ]
     },
     "execution_count": 76,
     "metadata": {},
     "output_type": "execute_result"
    }
   ],
   "source": [
    "n[:,1:5] #valor de todas as linhas mas somente das colunas 1 até 5"
   ]
  },
  {
   "cell_type": "code",
   "execution_count": 77,
   "id": "d834a0fe-facc-4e96-91e8-c11dec096432",
   "metadata": {},
   "outputs": [
    {
     "data": {
      "text/plain": [
       "array([0.56444723, 0.73322529, 0.11941611, 0.79341234])"
      ]
     },
     "execution_count": 77,
     "metadata": {},
     "output_type": "execute_result"
    }
   ],
   "source": [
    "n[0,1:5] #valor da linha 0 mas somente das colunas 1 até 5"
   ]
  },
  {
   "cell_type": "code",
   "execution_count": 78,
   "id": "5c11299c-cccd-426e-988b-4e89e60c16f4",
   "metadata": {},
   "outputs": [
    {
     "data": {
      "text/plain": [
       "0.5293538565038638"
      ]
     },
     "execution_count": 78,
     "metadata": {},
     "output_type": "execute_result"
    }
   ],
   "source": [
    "n[0,-1] #valor da linha 0 coluna -1 (ultima coluna)"
   ]
  },
  {
   "cell_type": "code",
   "execution_count": 81,
   "id": "efea35b1-6897-40bd-8383-2741f5b4c31e",
   "metadata": {},
   "outputs": [
    {
     "data": {
      "text/plain": [
       "array([0.79341234, 0.91078107, 0.82469344, 0.04913076, 0.10723077])"
      ]
     },
     "execution_count": 81,
     "metadata": {},
     "output_type": "execute_result"
    }
   ],
   "source": [
    "n[0,4:-1] #valor da primeira linha começando da coluna 4 e indo até a penultima (final -1)"
   ]
  },
  {
   "cell_type": "code",
   "execution_count": 80,
   "id": "723aa90e-4f01-4a73-a505-5d8248d47141",
   "metadata": {},
   "outputs": [
    {
     "data": {
      "text/plain": [
       "array([0.79341234, 0.91078107, 0.82469344, 0.04913076, 0.10723077,\n",
       "       0.52935386])"
      ]
     },
     "execution_count": 80,
     "metadata": {},
     "output_type": "execute_result"
    }
   ],
   "source": [
    "n[0,4:] #primeira linha e valores da coluna 4 até a ultima"
   ]
  },
  {
   "cell_type": "code",
   "execution_count": 83,
   "id": "39eafa1d-c4c1-4c79-8087-f10b1c193cdf",
   "metadata": {},
   "outputs": [
    {
     "name": "stdout",
     "output_type": "stream",
     "text": [
      "[[ 1.40400757  1.03752953  1.29913565 -0.51570326  1.37802569  1.51598518\n",
      "   1.41669436 -1.40383206 -0.62333414  0.97333976]\n",
      " [ 1.44552817  1.43153777  1.54516035  1.1081724   1.47699749  1.51021185\n",
      "   0.30725923  0.97778567  0.96192769  0.83043686]\n",
      " [ 1.37904911  0.17403025  0.59415979  0.05339687  1.51679904 -1.64678221\n",
      "   1.48165263  1.18754425 -0.75375613  0.04996576]\n",
      " [ 1.47563641  0.78169377  0.64910612  1.54377677  0.72110427  1.51547635\n",
      "   1.38139288  1.15090086 -0.14787919 -1.16409518]\n",
      " [ 1.55021394  0.22726314  0.61378242  0.01282404  0.26704782  1.3365409\n",
      "   1.02076206  0.62657473  1.34580867  0.96888469]\n",
      " [ 0.85652325  1.43347918  1.13897736  0.25082254 -2.22813604  0.24918012\n",
      "   0.84715804 -0.25159576  1.33438015  0.51158039]\n",
      " [ 0.69059648  1.49461724  1.30578844  0.31302307  0.81125368  1.47759754\n",
      "   1.22677865  1.16492611  1.55957865  0.81728561]\n",
      " [ 1.28348134 -1.50717752  1.42365457  1.36953832  0.23816928  0.04047504\n",
      "   1.33227541 -0.57213525  0.77401127  0.88812618]\n",
      " [ 1.60508749  0.7617299   1.18507622  1.53114862 -0.96652429  1.04044706\n",
      "  -1.14093749  0.55106488  0.31334663  0.44777039]\n",
      " [ 0.5913341   1.36588822 -8.58441741  0.42407374  1.17159237  1.15489615\n",
      "   0.38141653  1.1497065   1.26193864  1.3984173 ]]\n"
     ]
    }
   ],
   "source": [
    "an = np.log(n*5) #todos os valores da matriz multiplicado por 5\n",
    "print(an)"
   ]
  }
 ],
 "metadata": {
  "kernelspec": {
   "display_name": "Python 3 (ipykernel)",
   "language": "python",
   "name": "python3"
  },
  "language_info": {
   "codemirror_mode": {
    "name": "ipython",
    "version": 3
   },
   "file_extension": ".py",
   "mimetype": "text/x-python",
   "name": "python",
   "nbconvert_exporter": "python",
   "pygments_lexer": "ipython3",
   "version": "3.9.5"
  }
 },
 "nbformat": 4,
 "nbformat_minor": 5
}
