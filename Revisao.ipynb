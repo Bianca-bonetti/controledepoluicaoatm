{
 "cells": [
  {
   "cell_type": "code",
   "execution_count": 1,
   "id": "b163a526-8b3e-47f5-978e-f29a8a0107ca",
   "metadata": {},
   "outputs": [
    {
     "name": "stdout",
     "output_type": "stream",
     "text": [
      "Guilherme gente fina\n"
     ]
    }
   ],
   "source": [
    "# Tipos de Variáveis - string\n",
    "a = 'Guilherme '\n",
    "b = a + 'gente fina'\n",
    "print(b)"
   ]
  },
  {
   "cell_type": "code",
   "execution_count": 2,
   "id": "29940be4-44fb-431e-8923-124ea5695259",
   "metadata": {},
   "outputs": [
    {
     "name": "stdout",
     "output_type": "stream",
     "text": [
      "11\n",
      "<class 'int'>\n"
     ]
    }
   ],
   "source": [
    "# Tipos de Variáveis - inteiro\n",
    "c = 1\n",
    "d = c + 10\n",
    "print(d)\n",
    "print(type(d))"
   ]
  },
  {
   "cell_type": "code",
   "execution_count": 3,
   "id": "102029b5-3ab7-4186-9f4a-3f5ad8950059",
   "metadata": {},
   "outputs": [
    {
     "name": "stdout",
     "output_type": "stream",
     "text": [
      "Valor de g = 21.0 e o valor de h = 110.25\n",
      "<class 'float'>\n",
      "Valor de f = 10 do tipo = <class 'int'>\n"
     ]
    }
   ],
   "source": [
    "# Tipos de Variáveis - float\n",
    "f = 10.5\n",
    "g = f*2\n",
    "h = f**2\n",
    "print('Valor de g = ' +str(g) + ' e o valor de h = ' +str(h))\n",
    "print(type(h))\n",
    "f = int(f)\n",
    "print('Valor de f = '+str(f) + ' do tipo = '+str(type(f)))"
   ]
  },
  {
   "cell_type": "code",
   "execution_count": 5,
   "id": "2d5ea186-1fcf-42b5-b6b7-b34a33e6ef8a",
   "metadata": {},
   "outputs": [
    {
     "name": "stdout",
     "output_type": "stream",
     "text": [
      "['Guilherme', 'Flávia', 'Lucas']\n",
      "[3, 6, 6]\n",
      "<class 'list'>\n"
     ]
    }
   ],
   "source": [
    "# Exemplo dicionário\n",
    "dicionario = {\n",
    "    'alunos': ['Guilherme', 'Flávia', 'Lucas'],\n",
    "    'notas': [3, 6, 6]\n",
    "}\n",
    "print(dicionario['alunos'])\n",
    "print(dicionario['notas'])\n",
    "print(type(dicionario['notas']))"
   ]
  },
  {
   "cell_type": "code",
   "execution_count": 17,
   "id": "9c16c093-3823-4691-af74-0d18b8e8e2f9",
   "metadata": {},
   "outputs": [
    {
     "name": "stdout",
     "output_type": "stream",
     "text": [
      "0 Guilherme - nota = 3\n",
      "1 Flávia - nota = 6\n",
      "2 Lucas - nota = 6\n",
      "0 Guilherme - nota = 3\n",
      "1 Flávia - nota = 6\n",
      "2 Lucas - nota = 6\n"
     ]
    }
   ],
   "source": [
    "# Treinando loop\n",
    "for ii,aluno in enumerate(dicionario['alunos']):\n",
    "    print (str(ii) + ' ' + aluno + ' - nota = '+str(dicionario['notas'][ii]))\n",
    "\n",
    "for ii in range(0,len(dicionario['alunos'])):\n",
    "    print (str(ii) + ' '+ str(dicionario['alunos'][ii]) + ' - nota = '+str(dicionario['notas'][ii]))"
   ]
  },
  {
   "cell_type": "code",
   "execution_count": 28,
   "id": "35f89604-268d-45c4-8af5-8f208d777bba",
   "metadata": {},
   "outputs": [
    {
     "name": "stdout",
     "output_type": "stream",
     "text": [
      "0 Guilherme nota = 10.0\n",
      "1 Flávia nota = 6\n",
      "2 Lucas nota = 6\n",
      "0 Guilherme nota = 3\n",
      "1 Flávia nota = 6\n",
      "2 Lucas nota = 10.0\n"
     ]
    }
   ],
   "source": [
    "# Treinando loop com condição\n",
    "for ii,aluno in enumerate(dicionario['alunos']):\n",
    "    if aluno == 'Guilherme':\n",
    "        print (str(ii) + ' ' + aluno + ' nota = 10.0')\n",
    "    else:\n",
    "       print (str(ii) + ' ' + aluno + ' nota = '+str(dicionario['notas'][ii]))\n",
    "        \n",
    "for ii in range(0,len(dicionario['alunos'])):\n",
    "    if str(dicionario['alunos'][ii]) == 'Lucas':\n",
    "        print (str(ii) + ' ' + aluno + ' nota = 10.0')\n",
    "    else:\n",
    "        print (str(ii) + ' '+ str(dicionario['alunos'][ii]) + ' nota = '+str(dicionario['notas'][ii]))"
   ]
  },
  {
   "cell_type": "code",
   "execution_count": 35,
   "id": "68019754-2eee-427f-96f1-2d4dda425543",
   "metadata": {},
   "outputs": [
    {
     "name": "stdout",
     "output_type": "stream",
     "text": [
      "False\n",
      "True\n",
      "False\n",
      "True\n",
      "True\n",
      "True\n",
      "False\n",
      "<class 'bool'>\n"
     ]
    }
   ],
   "source": [
    "# Operações Lógicas\n",
    "a = 1\n",
    "b = 3\n",
    "c = 1\n",
    "print(a==b) #Igual a - operação lógica\n",
    "print(a==c)\n",
    "print(a>b) #maior que\n",
    "print(a<b) #menor que\n",
    "print(a>=c) #maior ou igual a\n",
    "print(a!=b) #diferente de\n",
    "print(a!=c)\n",
    "\n",
    "optf = a!=c\n",
    "print(type(optf))\n",
    "opt = True\n",
    "opf = False\n"
   ]
  },
  {
   "cell_type": "code",
   "execution_count": 39,
   "id": "3cca2d54-cf00-4025-84f9-02137109cc8a",
   "metadata": {},
   "outputs": [
    {
     "name": "stdout",
     "output_type": "stream",
     "text": [
      "0 Guilherme nota = 9.5\n",
      "1 Flávia nota = 6\n",
      "2 Lucas nota = 6\n"
     ]
    }
   ],
   "source": [
    "#Treinando com loop e condição\n",
    "for ii,aluno in enumerate(dicionario['alunos']):\n",
    "    if (aluno == 'Guilherme') and (dicionario['notas'][ii]<=9):\n",
    "        print (str(ii) + ' ' + aluno + ' nota = 10.0')\n",
    "    else:\n",
    "       print (str(ii) + ' ' + aluno + ' nota = '+str(dicionario['notas'][ii]))    "
   ]
  },
  {
   "cell_type": "code",
   "execution_count": 45,
   "id": "7ad927e0-d24b-4563-a4cb-1072df7b65f4",
   "metadata": {},
   "outputs": [
    {
     "name": "stdout",
     "output_type": "stream",
     "text": [
      "['Guilherme' 'Flávia' 'Lucas']\n",
      "<class 'numpy.ndarray'>\n",
      " \n",
      "[False False  True]\n",
      "(array([2], dtype=int64),)\n",
      "\n",
      "[9.5, 6, 9.5]\n"
     ]
    },
    {
     "name": "stderr",
     "output_type": "stream",
     "text": [
      "C:\\Users\\BiaBN\\AppData\\Local\\Temp\\ipykernel_18960\\2704704086.py:12: DeprecationWarning: Conversion of an array with ndim > 0 to a scalar is deprecated, and will error in future. Ensure you extract a single element from your array before performing this operation. (Deprecated NumPy 1.25.)\n",
      "  dicionario['notas'][int(np.where(mat2)[0])]=9.5\n"
     ]
    }
   ],
   "source": [
    "#Treinando numpy\n",
    "import numpy as np\n",
    "mat = np.array(dicionario['alunos'])\n",
    "print(mat)\n",
    "print(type(mat))\n",
    "\n",
    "print(' ')\n",
    "mat2 = np.array(mat=='Lucas')\n",
    "print(mat2)\n",
    "print(np.where(mat2))\n",
    "print('')\n",
    "dicionario['notas'][int(np.where(mat2)[0])]=9.5\n",
    "print (dicionario['notas'])"
   ]
  },
  {
   "cell_type": "code",
   "execution_count": 48,
   "id": "fe0c556c-5f45-40e6-a0ee-9982d8b0e1dc",
   "metadata": {},
   "outputs": [
    {
     "name": "stdout",
     "output_type": "stream",
     "text": [
      "[0.32190602 0.47747472 0.00515987 0.16913549 0.75917628 0.14540805\n",
      " 0.13422468 0.82787093 0.31287937 0.48160528 0.59970805 0.98557834\n",
      " 0.65561755 0.75049451 0.49547528 0.67309056 0.90728044 0.3026253\n",
      " 0.65550139 0.02734074 0.81392685 0.27274005 0.13482372 0.48237611\n",
      " 0.27358233 0.51885526 0.92186467 0.3971939  0.82035751 0.03962645\n",
      " 0.340207   0.42244622 0.33047292 0.60050906 0.99856286 0.02658142\n",
      " 0.37544353 0.30120086 0.49828285 0.05817076 0.84822504 0.92339066\n",
      " 0.98591745 0.22329417 0.43528196 0.46197246 0.02145989 0.99687971\n",
      " 0.3587743  0.49208113 0.00799974 0.2539822  0.42268682 0.51573002\n",
      " 0.63833881 0.68482776 0.80990645 0.54312115 0.35782546 0.65787583\n",
      " 0.727399   0.57414175 0.77650645 0.92266463 0.17762683 0.4542803\n",
      " 0.84473623 0.23136561 0.14058118 0.5029774  0.74259536 0.3878534\n",
      " 0.48895737 0.95121529 0.69978399 0.41665947 0.47430635 0.68726176\n",
      " 0.65973248 0.82050602 0.44527492 0.29327383 0.26838109 0.67020327\n",
      " 0.65427926 0.87172873 0.11167332 0.34959649 0.90637201 0.39477515\n",
      " 0.33198235 0.88350535 0.52758801 0.87277913 0.83043794 0.74731425\n",
      " 0.70737996 0.14126633 0.22356974 0.0066267 ]\n",
      "[0.31637525 0.4595378  0.00515985 0.16833024 0.68832415 0.14489618\n",
      " 0.13382201 0.73649284 0.30779949 0.46320246 0.56440149 0.8335917\n",
      " 0.60964887 0.68200051 0.47544983 0.62340546 0.78783171 0.29802723\n",
      " 0.60955679 0.02733734 0.72698914 0.26937122 0.13441563 0.46388546\n",
      " 0.27018226 0.49588639 0.79672989 0.38683222 0.73138968 0.03961608\n",
      " 0.33368223 0.40999284 0.3244904  0.56506255 0.84069363 0.02657829\n",
      " 0.3666852  0.29666722 0.47791789 0.05813795 0.75010778 0.79765118\n",
      " 0.83377897 0.22144321 0.42166609 0.44571467 0.02145824 0.83978099\n",
      " 0.35112684 0.47246112 0.00799966 0.25126039 0.41021228 0.49317005\n",
      " 0.59586219 0.63253962 0.72422267 0.51681052 0.35023825 0.61143739\n",
      " 0.66492918 0.54311436 0.70079152 0.79721308 0.17669425 0.43881572\n",
      " 0.74779601 0.22930696 0.14011858 0.48203633 0.67620223 0.37820213\n",
      " 0.46970568 0.81412182 0.64405246 0.40470798 0.45672148 0.63442294\n",
      " 0.61290549 0.73149096 0.43070601 0.28908781 0.26517083 0.6211453\n",
      " 0.6085875  0.76544252 0.11144135 0.34251873 0.78727189 0.38460065\n",
      " 0.32591778 0.77296758 0.50345079 0.76611804 0.73822685 0.67967117\n",
      " 0.6498446  0.14079694 0.22171192 0.00662665]\n"
     ]
    }
   ],
   "source": [
    "#Matriz numpy\n",
    "vec = np.random.rand(100)\n",
    "print(vec)\n",
    "vec2 = np.sin(vec)\n",
    "print(vec2)\n"
   ]
  },
  {
   "cell_type": "code",
   "execution_count": 49,
   "id": "1c2a673f-df3b-45e7-8c10-e5efb2d8632d",
   "metadata": {},
   "outputs": [],
   "source": [
    "# Datetime\n",
    "\n",
    "#copiar do github do professor"
   ]
  },
  {
   "cell_type": "markdown",
   "id": "53af58fd-252c-431a-be1d-4d0e262bd787",
   "metadata": {},
   "source": [
    "# Criando dataframe e salvando\n",
    "import pandas as pd\n",
    "df = pd.DataFrame()\n",
    "df['datas']=date_vector\n",
    "df['vec']=vec\n",
    "df['vec2']= vec2\n",
    "print(df)\n",
    "\n",
    "# salvando na pasta\n",
    "pasta = r\"C:\\Users\\BiaBN\\OneDrive\\Documentos\\controledepoluicaoatm\\tabelas\"\n",
    "df.to_csv(pasta+'/planilha.csv')"
   ]
  }
 ],
 "metadata": {
  "kernelspec": {
   "display_name": "Python 3 (ipykernel)",
   "language": "python",
   "name": "python3"
  },
  "language_info": {
   "codemirror_mode": {
    "name": "ipython",
    "version": 3
   },
   "file_extension": ".py",
   "mimetype": "text/x-python",
   "name": "python",
   "nbconvert_exporter": "python",
   "pygments_lexer": "ipython3",
   "version": "3.9.5"
  }
 },
 "nbformat": 4,
 "nbformat_minor": 5
}
