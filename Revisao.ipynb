{
 "cells": [
  {
   "cell_type": "code",
   "execution_count": 2,
   "id": "b163a526-8b3e-47f5-978e-f29a8a0107ca",
   "metadata": {},
   "outputs": [
    {
     "name": "stdout",
     "output_type": "stream",
     "text": [
      "Guilherme gente fina\n"
     ]
    }
   ],
   "source": [
    "# Tipos de Variáveis - string\n",
    "a = 'Guilherme '\n",
    "b = a + 'gente fina'\n",
    "print(b)"
   ]
  },
  {
   "cell_type": "code",
   "execution_count": 3,
   "id": "29940be4-44fb-431e-8923-124ea5695259",
   "metadata": {},
   "outputs": [
    {
     "name": "stdout",
     "output_type": "stream",
     "text": [
      "11\n",
      "<class 'int'>\n"
     ]
    }
   ],
   "source": [
    "# Tipos de Variáveis - inteiro\n",
    "c = 1\n",
    "d = c + 10\n",
    "print(d)\n",
    "print(type(d))"
   ]
  },
  {
   "cell_type": "code",
   "execution_count": 4,
   "id": "102029b5-3ab7-4186-9f4a-3f5ad8950059",
   "metadata": {},
   "outputs": [
    {
     "name": "stdout",
     "output_type": "stream",
     "text": [
      "Valor de g = 21.0 e o valor de h = 110.25\n",
      "<class 'float'>\n",
      "Valor de f = 10 do tipo = <class 'int'>\n"
     ]
    }
   ],
   "source": [
    "# Tipos de Variáveis - float\n",
    "f = 10.5\n",
    "g = f*2\n",
    "h = f**2\n",
    "print('Valor de g = ' +str(g) + ' e o valor de h = ' +str(h))\n",
    "print(type(h))\n",
    "f = int(f)\n",
    "print('Valor de f = '+str(f) + ' do tipo = '+str(type(f)))"
   ]
  },
  {
   "cell_type": "code",
   "execution_count": 5,
   "id": "2d5ea186-1fcf-42b5-b6b7-b34a33e6ef8a",
   "metadata": {},
   "outputs": [
    {
     "name": "stdout",
     "output_type": "stream",
     "text": [
      "['Guilherme', 'Flávia', 'Lucas']\n",
      "[3, 6, 6]\n",
      "<class 'list'>\n"
     ]
    }
   ],
   "source": [
    "# Exemplo dicionário\n",
    "dicionario = {\n",
    "    'alunos': ['Guilherme', 'Flávia', 'Lucas'],\n",
    "    'notas': [3, 6, 6]\n",
    "}\n",
    "print(dicionario['alunos'])\n",
    "print(dicionario['notas'])\n",
    "print(type(dicionario['notas']))"
   ]
  },
  {
   "cell_type": "code",
   "execution_count": 6,
   "id": "9c16c093-3823-4691-af74-0d18b8e8e2f9",
   "metadata": {},
   "outputs": [
    {
     "name": "stdout",
     "output_type": "stream",
     "text": [
      "0 Guilherme - nota = 3\n",
      "1 Flávia - nota = 6\n",
      "2 Lucas - nota = 6\n",
      "0 Guilherme - nota = 3\n",
      "1 Flávia - nota = 6\n",
      "2 Lucas - nota = 6\n"
     ]
    }
   ],
   "source": [
    "# Treinando loop\n",
    "for ii,aluno in enumerate(dicionario['alunos']):\n",
    "    print (str(ii) + ' ' + aluno + ' - nota = '+str(dicionario['notas'][ii]))\n",
    "\n",
    "for ii in range(0,len(dicionario['alunos'])):\n",
    "    print (str(ii) + ' '+ str(dicionario['alunos'][ii]) + ' - nota = '+str(dicionario['notas'][ii]))"
   ]
  },
  {
   "cell_type": "code",
   "execution_count": 7,
   "id": "35f89604-268d-45c4-8af5-8f208d777bba",
   "metadata": {},
   "outputs": [
    {
     "name": "stdout",
     "output_type": "stream",
     "text": [
      "0 Guilherme nota = 10.0\n",
      "1 Flávia nota = 6\n",
      "2 Lucas nota = 6\n",
      "0 Guilherme nota = 3\n",
      "1 Flávia nota = 6\n",
      "2 Lucas nota = 10.0\n"
     ]
    }
   ],
   "source": [
    "# Treinando loop com condição\n",
    "for ii,aluno in enumerate(dicionario['alunos']):\n",
    "    if aluno == 'Guilherme':\n",
    "        print (str(ii) + ' ' + aluno + ' nota = 10.0')\n",
    "    else:\n",
    "       print (str(ii) + ' ' + aluno + ' nota = '+str(dicionario['notas'][ii]))\n",
    "        \n",
    "for ii in range(0,len(dicionario['alunos'])):\n",
    "    if str(dicionario['alunos'][ii]) == 'Lucas':\n",
    "        print (str(ii) + ' ' + aluno + ' nota = 10.0')\n",
    "    else:\n",
    "        print (str(ii) + ' '+ str(dicionario['alunos'][ii]) + ' nota = '+str(dicionario['notas'][ii]))"
   ]
  },
  {
   "cell_type": "code",
   "execution_count": 8,
   "id": "68019754-2eee-427f-96f1-2d4dda425543",
   "metadata": {},
   "outputs": [
    {
     "name": "stdout",
     "output_type": "stream",
     "text": [
      "False\n",
      "True\n",
      "False\n",
      "True\n",
      "True\n",
      "True\n",
      "False\n",
      "<class 'bool'>\n"
     ]
    }
   ],
   "source": [
    "# Operações Lógicas\n",
    "a = 1\n",
    "b = 3\n",
    "c = 1\n",
    "print(a==b) #Igual a - operação lógica\n",
    "print(a==c)\n",
    "print(a>b) #maior que\n",
    "print(a<b) #menor que\n",
    "print(a>=c) #maior ou igual a\n",
    "print(a!=b) #diferente de\n",
    "print(a!=c)\n",
    "\n",
    "optf = a!=c\n",
    "print(type(optf))\n",
    "opt = True\n",
    "opf = False\n"
   ]
  },
  {
   "cell_type": "code",
   "execution_count": 9,
   "id": "3cca2d54-cf00-4025-84f9-02137109cc8a",
   "metadata": {},
   "outputs": [
    {
     "name": "stdout",
     "output_type": "stream",
     "text": [
      "0 Guilherme nota = 10.0\n",
      "1 Flávia nota = 6\n",
      "2 Lucas nota = 6\n"
     ]
    }
   ],
   "source": [
    "#Treinando com loop e condição\n",
    "for ii,aluno in enumerate(dicionario['alunos']):\n",
    "    if (aluno == 'Guilherme') and (dicionario['notas'][ii]<=9):\n",
    "        print (str(ii) + ' ' + aluno + ' nota = 10.0')\n",
    "    else:\n",
    "       print (str(ii) + ' ' + aluno + ' nota = '+str(dicionario['notas'][ii]))    "
   ]
  },
  {
   "cell_type": "code",
   "execution_count": 10,
   "id": "7ad927e0-d24b-4563-a4cb-1072df7b65f4",
   "metadata": {},
   "outputs": [
    {
     "name": "stdout",
     "output_type": "stream",
     "text": [
      "['Guilherme' 'Flávia' 'Lucas']\n",
      "<class 'numpy.ndarray'>\n",
      " \n",
      "[False False  True]\n",
      "(array([2], dtype=int64),)\n",
      "\n",
      "[3, 6, 9.5]\n"
     ]
    },
    {
     "name": "stderr",
     "output_type": "stream",
     "text": [
      "C:\\Users\\BiaBN\\AppData\\Local\\Temp\\ipykernel_21748\\2704704086.py:12: DeprecationWarning: Conversion of an array with ndim > 0 to a scalar is deprecated, and will error in future. Ensure you extract a single element from your array before performing this operation. (Deprecated NumPy 1.25.)\n",
      "  dicionario['notas'][int(np.where(mat2)[0])]=9.5\n"
     ]
    }
   ],
   "source": [
    "#Treinando numpy\n",
    "import numpy as np\n",
    "mat = np.array(dicionario['alunos'])\n",
    "print(mat)\n",
    "print(type(mat))\n",
    "\n",
    "print(' ')\n",
    "mat2 = np.array(mat=='Lucas')\n",
    "print(mat2)\n",
    "print(np.where(mat2))\n",
    "print('')\n",
    "dicionario['notas'][int(np.where(mat2)[0])]=9.5\n",
    "print (dicionario['notas'])"
   ]
  },
  {
   "cell_type": "code",
   "execution_count": 11,
   "id": "fe0c556c-5f45-40e6-a0ee-9982d8b0e1dc",
   "metadata": {},
   "outputs": [
    {
     "name": "stdout",
     "output_type": "stream",
     "text": [
      "[0.06091492 0.07900962 0.58301023 0.58367048 0.94126324 0.80084708\n",
      " 0.44900876 0.37852521 0.23316776 0.62794433 0.30692551 0.97540212\n",
      " 0.15702714 0.36065279 0.09965217 0.78126114 0.89600254 0.52528713\n",
      " 0.06802754 0.48286233 0.78436272 0.74205024 0.16841487 0.39429659\n",
      " 0.23010082 0.33758205 0.05244376 0.66256654 0.62099856 0.63374456\n",
      " 0.30999416 0.38865437 0.42840108 0.52745038 0.49716463 0.15262782\n",
      " 0.14627993 0.69627925 0.23278455 0.87034887 0.560419   0.91888345\n",
      " 0.94412564 0.50916908 0.45661784 0.78092576 0.39314529 0.84497028\n",
      " 0.343779   0.13289598 0.96569304 0.41754798 0.52537796 0.79403856\n",
      " 0.27063566 0.74715684 0.37237868 0.70903557 0.78234817 0.6808752\n",
      " 0.8739975  0.37820797 0.7256808  0.58814367 0.33351727 0.51548855\n",
      " 0.22549846 0.91054589 0.03248598 0.70970329 0.43398613 0.46228331\n",
      " 0.52636288 0.23753658 0.55783138 0.58511701 0.33172142 0.10267233\n",
      " 0.81743415 0.90352728 0.48370347 0.85361499 0.16586786 0.73366959\n",
      " 0.7201382  0.26902741 0.21580869 0.76365695 0.48539558 0.18761518\n",
      " 0.55245828 0.26408731 0.51186416 0.17323232 0.27328568 0.31813952\n",
      " 0.01078128 0.62798845 0.63637786 0.88344656]\n",
      "[0.06087725 0.07892744 0.55053939 0.55109045 0.8083025  0.717946\n",
      " 0.43407276 0.36955048 0.23106072 0.58748247 0.30212926 0.82792748\n",
      " 0.15638262 0.35288511 0.09948732 0.70417542 0.7808358  0.50146144\n",
      " 0.06797509 0.46431616 0.70637424 0.67580053 0.16761985 0.38415885\n",
      " 0.22807568 0.33120658 0.05241972 0.61514237 0.58184758 0.59216633\n",
      " 0.30505308 0.37894349 0.41541691 0.50333187 0.47693534 0.15203593\n",
      " 0.14575881 0.64136745 0.23068786 0.76455385 0.53154115 0.7949247\n",
      " 0.80998447 0.4874519  0.44091498 0.70393725 0.38309563 0.74795138\n",
      " 0.33704737 0.13250514 0.82244335 0.40552031 0.50154002 0.71318999\n",
      " 0.26734401 0.6795557  0.36383211 0.65110208 0.70494682 0.62947331\n",
      " 0.76690052 0.36925568 0.66364487 0.55481757 0.32736851 0.49295997\n",
      " 0.22359223 0.78983866 0.03248027 0.65160873 0.42049074 0.44599291\n",
      " 0.50239187 0.23530909 0.52934757 0.55229693 0.32567108 0.10249203\n",
      " 0.72939294 0.78551462 0.46506096 0.75366132 0.16510834 0.66959962\n",
      " 0.65948857 0.26579396 0.21413743 0.69156753 0.46655828 0.18651645\n",
      " 0.52478139 0.26102833 0.48980334 0.17236718 0.26989664 0.31279998\n",
      " 0.01078107 0.58751818 0.59428623 0.77293028]\n"
     ]
    }
   ],
   "source": [
    "#Matriz numpy\n",
    "vec = np.random.rand(100)\n",
    "print(vec)\n",
    "vec2 = np.sin(vec)\n",
    "print(vec2)\n"
   ]
  },
  {
   "cell_type": "code",
   "execution_count": 12,
   "id": "1c2a673f-df3b-45e7-8c10-e5efb2d8632d",
   "metadata": {},
   "outputs": [
    {
     "name": "stdout",
     "output_type": "stream",
     "text": [
      "(100,)\n",
      "2024-01-01 00:00:00\n",
      "2024-01-02 00:00:00\n",
      "2024-01-03 00:00:00\n",
      "2024-01-04 00:00:00\n",
      "2024-01-05 00:00:00\n",
      "2024-01-06 00:00:00\n",
      "2024-01-07 00:00:00\n",
      "2024-01-08 00:00:00\n",
      "2024-01-09 00:00:00\n",
      "2024-01-10 00:00:00\n",
      "2024-01-11 00:00:00\n",
      "2024-01-12 00:00:00\n",
      "2024-01-13 00:00:00\n",
      "2024-01-14 00:00:00\n",
      "2024-01-15 00:00:00\n",
      "2024-01-16 00:00:00\n",
      "2024-01-17 00:00:00\n",
      "2024-01-18 00:00:00\n",
      "2024-01-19 00:00:00\n",
      "2024-01-20 00:00:00\n",
      "2024-01-21 00:00:00\n",
      "2024-01-22 00:00:00\n",
      "2024-01-23 00:00:00\n",
      "2024-01-24 00:00:00\n",
      "2024-01-25 00:00:00\n",
      "2024-01-26 00:00:00\n",
      "2024-01-27 00:00:00\n",
      "2024-01-28 00:00:00\n",
      "2024-01-29 00:00:00\n",
      "2024-01-30 00:00:00\n",
      "2024-01-31 00:00:00\n",
      "2024-02-01 00:00:00\n",
      "2024-02-02 00:00:00\n",
      "2024-02-03 00:00:00\n",
      "2024-02-04 00:00:00\n",
      "2024-02-05 00:00:00\n",
      "2024-02-06 00:00:00\n",
      "2024-02-07 00:00:00\n",
      "2024-02-08 00:00:00\n",
      "2024-02-09 00:00:00\n",
      "2024-02-10 00:00:00\n",
      "2024-02-11 00:00:00\n",
      "2024-02-12 00:00:00\n",
      "2024-02-13 00:00:00\n",
      "2024-02-14 00:00:00\n",
      "2024-02-15 00:00:00\n",
      "2024-02-16 00:00:00\n",
      "2024-02-17 00:00:00\n",
      "2024-02-18 00:00:00\n",
      "2024-02-19 00:00:00\n",
      "2024-02-20 00:00:00\n",
      "2024-02-21 00:00:00\n",
      "2024-02-22 00:00:00\n",
      "2024-02-23 00:00:00\n",
      "2024-02-24 00:00:00\n",
      "2024-02-25 00:00:00\n",
      "2024-02-26 00:00:00\n",
      "2024-02-27 00:00:00\n",
      "2024-02-28 00:00:00\n",
      "2024-02-29 00:00:00\n",
      "2024-03-01 00:00:00\n",
      "2024-03-02 00:00:00\n",
      "2024-03-03 00:00:00\n",
      "2024-03-04 00:00:00\n",
      "2024-03-05 00:00:00\n",
      "2024-03-06 00:00:00\n",
      "2024-03-07 00:00:00\n",
      "2024-03-08 00:00:00\n",
      "2024-03-09 00:00:00\n",
      "2024-03-10 00:00:00\n",
      "2024-03-11 00:00:00\n",
      "2024-03-12 00:00:00\n",
      "2024-03-13 00:00:00\n",
      "2024-03-14 00:00:00\n",
      "2024-03-15 00:00:00\n",
      "2024-03-16 00:00:00\n",
      "2024-03-17 00:00:00\n",
      "2024-03-18 00:00:00\n",
      "2024-03-19 00:00:00\n",
      "2024-03-20 00:00:00\n",
      "2024-03-21 00:00:00\n",
      "2024-03-22 00:00:00\n",
      "2024-03-23 00:00:00\n",
      "2024-03-24 00:00:00\n",
      "2024-03-25 00:00:00\n",
      "2024-03-26 00:00:00\n",
      "2024-03-27 00:00:00\n",
      "2024-03-28 00:00:00\n",
      "2024-03-29 00:00:00\n",
      "2024-03-30 00:00:00\n",
      "2024-03-31 00:00:00\n",
      "2024-04-01 00:00:00\n",
      "2024-04-02 00:00:00\n",
      "2024-04-03 00:00:00\n",
      "2024-04-04 00:00:00\n",
      "2024-04-05 00:00:00\n",
      "2024-04-06 00:00:00\n",
      "2024-04-07 00:00:00\n",
      "2024-04-08 00:00:00\n",
      "2024-04-09 00:00:00\n"
     ]
    }
   ],
   "source": [
    "# Datetime \n",
    "\n",
    "from datetime import datetime, timedelta\n",
    "\n",
    "# Data inicial\n",
    "start_date = datetime(2024, 1, 1)  # ano, mês, dia\n",
    "\n",
    "# Lista para armazenar as datas\n",
    "date_vector = []\n",
    "\n",
    "# Gerar datas para uma semana\n",
    "print(vec.shape)\n",
    "for i in range(0,vec.shape[0]):\n",
    "    date_vector.append(start_date + timedelta(days=i))\n",
    "\n",
    "# Exibir as datas\n",
    "for date in date_vector:\n",
    "    print(date)"
   ]
  },
  {
   "cell_type": "code",
   "execution_count": 13,
   "id": "adf7a966-e2bd-4d1c-a077-e9a217c85058",
   "metadata": {},
   "outputs": [
    {
     "name": "stdout",
     "output_type": "stream",
     "text": [
      "        datas       vec      vec2\n",
      "0  2024-01-01  0.060915  0.060877\n",
      "1  2024-01-02  0.079010  0.078927\n",
      "2  2024-01-03  0.583010  0.550539\n",
      "3  2024-01-04  0.583670  0.551090\n",
      "4  2024-01-05  0.941263  0.808302\n",
      "..        ...       ...       ...\n",
      "95 2024-04-05  0.318140  0.312800\n",
      "96 2024-04-06  0.010781  0.010781\n",
      "97 2024-04-07  0.627988  0.587518\n",
      "98 2024-04-08  0.636378  0.594286\n",
      "99 2024-04-09  0.883447  0.772930\n",
      "\n",
      "[100 rows x 3 columns]\n"
     ]
    }
   ],
   "source": [
    "# Criando dataframe e salvando\n",
    "import pandas as pd\n",
    "df = pd.DataFrame()\n",
    "df['datas']=date_vector\n",
    "df['vec']=vec\n",
    "df['vec2']= vec2\n",
    "print(df)\n",
    "\n",
    "# salvando na pasta\n",
    "pasta = r\"C:\\Users\\BiaBN\\OneDrive\\Documentos\\controledepoluicaoatm\\tabelas\"\n",
    "df.to_csv(pasta+'/planilha.csv')"
   ]
  },
  {
   "cell_type": "code",
   "execution_count": null,
   "id": "eca652cc-a3e2-467c-b3db-f5780cd50db3",
   "metadata": {},
   "outputs": [],
   "source": []
  }
 ],
 "metadata": {
  "kernelspec": {
   "display_name": "Python 3 (ipykernel)",
   "language": "python",
   "name": "python3"
  },
  "language_info": {
   "codemirror_mode": {
    "name": "ipython",
    "version": 3
   },
   "file_extension": ".py",
   "mimetype": "text/x-python",
   "name": "python",
   "nbconvert_exporter": "python",
   "pygments_lexer": "ipython3",
   "version": "3.9.5"
  }
 },
 "nbformat": 4,
 "nbformat_minor": 5
}
